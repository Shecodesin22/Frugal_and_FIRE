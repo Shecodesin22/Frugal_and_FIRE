{
 "cells": [
  {
   "cell_type": "code",
   "execution_count": 1,
   "metadata": {},
   "outputs": [],
   "source": [
    "import pandas as pd\n",
    "import numpy as np\n",
    "import datetime as dt\n",
    "import time\n",
    "import requests\n",
    "import json"
   ]
  },
  {
   "cell_type": "code",
   "execution_count": 2,
   "metadata": {},
   "outputs": [],
   "source": [
    "df_fire5000 = pd.read_csv('./data/fire_5000.csv')"
   ]
  },
  {
   "cell_type": "code",
   "execution_count": 3,
   "metadata": {},
   "outputs": [],
   "source": [
    "df_fire5001to10001 = pd.read_csv('./data/fire_5001to10001.csv')"
   ]
  },
  {
   "cell_type": "code",
   "execution_count": 4,
   "metadata": {},
   "outputs": [],
   "source": [
    "df_fire10002to15002 = pd.read_csv('./data/fire_10002to15002.csv')"
   ]
  },
  {
   "cell_type": "code",
   "execution_count": 5,
   "metadata": {},
   "outputs": [],
   "source": [
    "df_fire15003to20003 = pd.read_csv('./data/fire_15003to20003.csv')"
   ]
  },
  {
   "cell_type": "code",
   "execution_count": 6,
   "metadata": {},
   "outputs": [],
   "source": [
    "fires = [df_fire5000, df_fire5001to10001,  df_fire10002to15002, df_fire15003to20003]"
   ]
  },
  {
   "cell_type": "code",
   "execution_count": 7,
   "metadata": {},
   "outputs": [],
   "source": [
    "df_fire = pd.concat(fires)"
   ]
  },
  {
   "cell_type": "code",
   "execution_count": 8,
   "metadata": {},
   "outputs": [
    {
     "data": {
      "text/plain": [
       "(19700, 27)"
      ]
     },
     "execution_count": 8,
     "metadata": {},
     "output_type": "execute_result"
    }
   ],
   "source": [
    "df_fire.shape"
   ]
  },
  {
   "cell_type": "code",
   "execution_count": 9,
   "metadata": {},
   "outputs": [
    {
     "data": {
      "text/html": [
       "<div>\n",
       "<style scoped>\n",
       "    .dataframe tbody tr th:only-of-type {\n",
       "        vertical-align: middle;\n",
       "    }\n",
       "\n",
       "    .dataframe tbody tr th {\n",
       "        vertical-align: top;\n",
       "    }\n",
       "\n",
       "    .dataframe thead th {\n",
       "        text-align: right;\n",
       "    }\n",
       "</style>\n",
       "<table border=\"1\" class=\"dataframe\">\n",
       "  <thead>\n",
       "    <tr style=\"text-align: right;\">\n",
       "      <th></th>\n",
       "      <th>Unnamed: 0</th>\n",
       "      <th>author</th>\n",
       "      <th>author_flair_css_class</th>\n",
       "      <th>author_flair_richtext</th>\n",
       "      <th>author_flair_text</th>\n",
       "      <th>author_flair_type</th>\n",
       "      <th>author_patreon_flair</th>\n",
       "      <th>author_full</th>\n",
       "      <th>id</th>\n",
       "      <th>is_cr_ads</th>\n",
       "      <th>...</th>\n",
       "      <th>pwls</th>\n",
       "      <th>retr_on</th>\n",
       "      <th>score</th>\n",
       "      <th>stickied</th>\n",
       "      <th>subreddit</th>\n",
       "      <th>text</th>\n",
       "      <th>time</th>\n",
       "      <th>title</th>\n",
       "      <th>tot_awards</th>\n",
       "      <th>upvote_r</th>\n",
       "    </tr>\n",
       "  </thead>\n",
       "  <tbody>\n",
       "    <tr>\n",
       "      <th>0</th>\n",
       "      <td>0</td>\n",
       "      <td>SMITBOMB</td>\n",
       "      <td>NaN</td>\n",
       "      <td>[]</td>\n",
       "      <td>NaN</td>\n",
       "      <td>text</td>\n",
       "      <td>False</td>\n",
       "      <td>t2_3yxsd0ki</td>\n",
       "      <td>shz867</td>\n",
       "      <td>False</td>\n",
       "      <td>...</td>\n",
       "      <td>6</td>\n",
       "      <td>1643733499</td>\n",
       "      <td>1</td>\n",
       "      <td>False</td>\n",
       "      <td>Fire</td>\n",
       "      <td>Lately, I’ve really been contemplating the pur...</td>\n",
       "      <td>1643733488</td>\n",
       "      <td>Do I really need to invest?</td>\n",
       "      <td>0</td>\n",
       "      <td>1.0</td>\n",
       "    </tr>\n",
       "    <tr>\n",
       "      <th>1</th>\n",
       "      <td>1</td>\n",
       "      <td>Riffington</td>\n",
       "      <td>NaN</td>\n",
       "      <td>[]</td>\n",
       "      <td>NaN</td>\n",
       "      <td>text</td>\n",
       "      <td>False</td>\n",
       "      <td>t2_dyavg</td>\n",
       "      <td>shy55k</td>\n",
       "      <td>False</td>\n",
       "      <td>...</td>\n",
       "      <td>6</td>\n",
       "      <td>1643730749</td>\n",
       "      <td>1</td>\n",
       "      <td>False</td>\n",
       "      <td>Fire</td>\n",
       "      <td>I can’t seem to find the step by step roadmap ...</td>\n",
       "      <td>1643730738</td>\n",
       "      <td>Savings planning roadmap</td>\n",
       "      <td>0</td>\n",
       "      <td>1.0</td>\n",
       "    </tr>\n",
       "  </tbody>\n",
       "</table>\n",
       "<p>2 rows × 27 columns</p>\n",
       "</div>"
      ],
      "text/plain": [
       "   Unnamed: 0      author  author_flair_css_class author_flair_richtext  \\\n",
       "0           0    SMITBOMB                     NaN                    []   \n",
       "1           1  Riffington                     NaN                    []   \n",
       "\n",
       "   author_flair_text author_flair_type  author_patreon_flair  author_full  \\\n",
       "0                NaN              text                 False  t2_3yxsd0ki   \n",
       "1                NaN              text                 False     t2_dyavg   \n",
       "\n",
       "       id  is_cr_ads  ...  pwls     retr_on  score  stickied  subreddit  \\\n",
       "0  shz867      False  ...     6  1643733499      1     False       Fire   \n",
       "1  shy55k      False  ...     6  1643730749      1     False       Fire   \n",
       "\n",
       "                                                text        time  \\\n",
       "0  Lately, I’ve really been contemplating the pur...  1643733488   \n",
       "1  I can’t seem to find the step by step roadmap ...  1643730738   \n",
       "\n",
       "                         title  tot_awards  upvote_r  \n",
       "0  Do I really need to invest?           0       1.0  \n",
       "1     Savings planning roadmap           0       1.0  \n",
       "\n",
       "[2 rows x 27 columns]"
      ]
     },
     "execution_count": 9,
     "metadata": {},
     "output_type": "execute_result"
    }
   ],
   "source": [
    "df_fire.head(2)"
   ]
  },
  {
   "cell_type": "code",
   "execution_count": 10,
   "metadata": {},
   "outputs": [
    {
     "data": {
      "text/plain": [
       "Unnamed: 0                    0\n",
       "author                        0\n",
       "author_flair_css_class    19700\n",
       "author_flair_richtext         0\n",
       "author_flair_text         19700\n",
       "author_flair_type             0\n",
       "author_patreon_flair          0\n",
       "author_full                   0\n",
       "id                            0\n",
       "is_cr_ads                     0\n",
       "is_cross_post                 0\n",
       "is_orig_cont                  0\n",
       "is_self                       0\n",
       "is_vid                        0\n",
       "num_comments                  0\n",
       "num_cross                     0\n",
       "pinned                        0\n",
       "pwls                          0\n",
       "retr_on                       0\n",
       "score                         0\n",
       "stickied                      0\n",
       "subreddit                     0\n",
       "text                          0\n",
       "time                          0\n",
       "title                         0\n",
       "tot_awards                    0\n",
       "upvote_r                      0\n",
       "dtype: int64"
      ]
     },
     "execution_count": 10,
     "metadata": {},
     "output_type": "execute_result"
    }
   ],
   "source": [
    "df_fire.isna().sum()"
   ]
  },
  {
   "cell_type": "code",
   "execution_count": 11,
   "metadata": {},
   "outputs": [
    {
     "name": "stdout",
     "output_type": "stream",
     "text": [
      "<class 'pandas.core.frame.DataFrame'>\n",
      "Int64Index: 19700 entries, 0 to 4949\n",
      "Data columns (total 27 columns):\n",
      " #   Column                  Non-Null Count  Dtype  \n",
      "---  ------                  --------------  -----  \n",
      " 0   Unnamed: 0              19700 non-null  int64  \n",
      " 1   author                  19700 non-null  object \n",
      " 2   author_flair_css_class  0 non-null      float64\n",
      " 3   author_flair_richtext   19700 non-null  object \n",
      " 4   author_flair_text       0 non-null      float64\n",
      " 5   author_flair_type       19700 non-null  object \n",
      " 6   author_patreon_flair    19700 non-null  bool   \n",
      " 7   author_full             19700 non-null  object \n",
      " 8   id                      19700 non-null  object \n",
      " 9   is_cr_ads               19700 non-null  bool   \n",
      " 10  is_cross_post           19700 non-null  bool   \n",
      " 11  is_orig_cont            19700 non-null  bool   \n",
      " 12  is_self                 19700 non-null  bool   \n",
      " 13  is_vid                  19700 non-null  bool   \n",
      " 14  num_comments            19700 non-null  int64  \n",
      " 15  num_cross               19700 non-null  int64  \n",
      " 16  pinned                  19700 non-null  bool   \n",
      " 17  pwls                    19700 non-null  int64  \n",
      " 18  retr_on                 19700 non-null  int64  \n",
      " 19  score                   19700 non-null  int64  \n",
      " 20  stickied                19700 non-null  bool   \n",
      " 21  subreddit               19700 non-null  object \n",
      " 22  text                    19700 non-null  object \n",
      " 23  time                    19700 non-null  int64  \n",
      " 24  title                   19700 non-null  object \n",
      " 25  tot_awards              19700 non-null  int64  \n",
      " 26  upvote_r                19700 non-null  float64\n",
      "dtypes: bool(8), float64(3), int64(8), object(8)\n",
      "memory usage: 3.2+ MB\n"
     ]
    }
   ],
   "source": [
    "df_fire.info()"
   ]
  },
  {
   "cell_type": "code",
   "execution_count": 15,
   "metadata": {},
   "outputs": [
    {
     "data": {
      "text/plain": [
       "True    19700\n",
       "Name: is_self, dtype: int64"
      ]
     },
     "execution_count": 15,
     "metadata": {},
     "output_type": "execute_result"
    }
   ],
   "source": [
    "df_fire['is_self'].value_counts()"
   ]
  },
  {
   "cell_type": "code",
   "execution_count": 16,
   "metadata": {},
   "outputs": [
    {
     "data": {
      "text/plain": [
       "text    19700\n",
       "Name: author_flair_type, dtype: int64"
      ]
     },
     "execution_count": 16,
     "metadata": {},
     "output_type": "execute_result"
    }
   ],
   "source": [
    "df_fire['author_flair_type'].value_counts()"
   ]
  },
  {
   "cell_type": "code",
   "execution_count": 17,
   "metadata": {},
   "outputs": [
    {
     "data": {
      "text/plain": [
       "False    19700\n",
       "Name: author_patreon_flair, dtype: int64"
      ]
     },
     "execution_count": 17,
     "metadata": {},
     "output_type": "execute_result"
    }
   ],
   "source": [
    "df_fire['author_patreon_flair'].value_counts()"
   ]
  },
  {
   "cell_type": "code",
   "execution_count": 18,
   "metadata": {},
   "outputs": [
    {
     "data": {
      "text/plain": [
       "False    19700\n",
       "Name: is_cr_ads, dtype: int64"
      ]
     },
     "execution_count": 18,
     "metadata": {},
     "output_type": "execute_result"
    }
   ],
   "source": [
    "df_fire['is_cr_ads'].value_counts()"
   ]
  },
  {
   "cell_type": "code",
   "execution_count": 20,
   "metadata": {},
   "outputs": [
    {
     "data": {
      "text/plain": [
       "False    19700\n",
       "Name: is_orig_cont, dtype: int64"
      ]
     },
     "execution_count": 20,
     "metadata": {},
     "output_type": "execute_result"
    }
   ],
   "source": [
    "df_fire['is_orig_cont'].value_counts()"
   ]
  },
  {
   "cell_type": "code",
   "execution_count": 21,
   "metadata": {},
   "outputs": [
    {
     "data": {
      "text/plain": [
       "False    19700\n",
       "Name: is_vid, dtype: int64"
      ]
     },
     "execution_count": 21,
     "metadata": {},
     "output_type": "execute_result"
    }
   ],
   "source": [
    "df_fire['is_vid'].value_counts()"
   ]
  },
  {
   "cell_type": "code",
   "execution_count": 22,
   "metadata": {},
   "outputs": [
    {
     "data": {
      "text/plain": [
       "False    19700\n",
       "Name: pinned, dtype: int64"
      ]
     },
     "execution_count": 22,
     "metadata": {},
     "output_type": "execute_result"
    }
   ],
   "source": [
    "df_fire['pinned'].value_counts()"
   ]
  },
  {
   "cell_type": "code",
   "execution_count": 23,
   "metadata": {},
   "outputs": [
    {
     "data": {
      "text/plain": [
       "False    19700\n",
       "Name: stickied, dtype: int64"
      ]
     },
     "execution_count": 23,
     "metadata": {},
     "output_type": "execute_result"
    }
   ],
   "source": [
    "df_fire['stickied'].value_counts()"
   ]
  },
  {
   "cell_type": "code",
   "execution_count": 12,
   "metadata": {},
   "outputs": [],
   "source": [
    "#Checking again for duplicates in main features of interest: text, subreddit, time, author, title\n",
    "mini_fire = df_fire[['title', 'text', 'subreddit', 'time', 'author']]\n"
   ]
  },
  {
   "cell_type": "code",
   "execution_count": 13,
   "metadata": {},
   "outputs": [
    {
     "data": {
      "text/plain": [
       "<bound method DataFrame.drop_duplicates of                                                   title  \\\n",
       "0                           Do I really need to invest?   \n",
       "1                              Savings planning roadmap   \n",
       "2            So when did you add 100% FI to your flair?   \n",
       "3                                    Quickest way to 1M   \n",
       "4     How on earth did some of you get such large Ro...   \n",
       "...                                                 ...   \n",
       "4945  Retirement planning confusion resolution and c...   \n",
       "4946  I'm 24 M about to turn 25 and I need help with...   \n",
       "4947  35 y/o aiming for FI in 5 years - quitting FA ...   \n",
       "4948                                   A little Success   \n",
       "4949  What’s a good monthly passive income # to fire...   \n",
       "\n",
       "                                                   text subreddit        time  \\\n",
       "0     Lately, I’ve really been contemplating the pur...      Fire  1643733488   \n",
       "1     I can’t seem to find the step by step roadmap ...      Fire  1643730738   \n",
       "2     Not there yet but curious. Was there a definin...      Fire  1643704533   \n",
       "3     I’m currently 20 years old at a Canadian colle...      Fire  1643698044   \n",
       "4     On occasion I read about people here  that hav...      Fire  1643694630   \n",
       "...                                                 ...       ...         ...   \n",
       "4945  Am I right in assuming that:\\n\\n1. If I spend ...      Fire  1642238381   \n",
       "4946  I made money off during the GME rally of Jan 2...      Fire  1642237670   \n",
       "4947  Looking for advice on the portfolio mix (and h...      Fire  1642234836   \n",
       "4948  Hi all! \\n\\nSharing some success. \\n\\nI quit m...      Fire  1642228840   \n",
       "4949  I’m in my mid 30s and have given up all of my ...      Fire  1642228073   \n",
       "\n",
       "                author  \n",
       "0             SMITBOMB  \n",
       "1           Riffington  \n",
       "2               Raz0r-  \n",
       "3        Fundingforis6  \n",
       "4     anteatertrashbin  \n",
       "...                ...  \n",
       "4945         lllrnr101  \n",
       "4946  throwaway_saveme  \n",
       "4947         aberryfox  \n",
       "4948     No-Leopard639  \n",
       "4949      throwawayrih  \n",
       "\n",
       "[19700 rows x 5 columns]>"
      ]
     },
     "execution_count": 13,
     "metadata": {},
     "output_type": "execute_result"
    }
   ],
   "source": [
    "mini_fire.drop_duplicates"
   ]
  },
  {
   "cell_type": "code",
   "execution_count": 14,
   "metadata": {},
   "outputs": [
    {
     "data": {
      "text/plain": [
       "(19700, 5)"
      ]
     },
     "execution_count": 14,
     "metadata": {},
     "output_type": "execute_result"
    }
   ],
   "source": [
    "mini_fire.shape"
   ]
  },
  {
   "cell_type": "code",
   "execution_count": 24,
   "metadata": {},
   "outputs": [],
   "source": [
    "df_fire.to_csv('./data/fire_total20k.csv')"
   ]
  },
  {
   "cell_type": "markdown",
   "metadata": {},
   "source": [
    "Sentiment Analysis"
   ]
  },
  {
   "cell_type": "code",
   "execution_count": 2,
   "metadata": {},
   "outputs": [],
   "source": [
    "df_fire_all = pd.read_csv('./data/fire_total20k.csv')"
   ]
  },
  {
   "cell_type": "code",
   "execution_count": 3,
   "metadata": {},
   "outputs": [
    {
     "data": {
      "text/plain": [
       "(19700, 28)"
      ]
     },
     "execution_count": 3,
     "metadata": {},
     "output_type": "execute_result"
    }
   ],
   "source": [
    "df_fire_all.shape"
   ]
  }
 ],
 "metadata": {
  "interpreter": {
   "hash": "1013f178bd8cc9c09c9a1bfa722153bff45040218b602b728b1ebb7cc8a12e61"
  },
  "kernelspec": {
   "display_name": "Python 3.9.7 64-bit ('base': conda)",
   "language": "python",
   "name": "python3"
  },
  "language_info": {
   "codemirror_mode": {
    "name": "ipython",
    "version": 3
   },
   "file_extension": ".py",
   "mimetype": "text/x-python",
   "name": "python",
   "nbconvert_exporter": "python",
   "pygments_lexer": "ipython3",
   "version": "3.9.7"
  },
  "orig_nbformat": 4
 },
 "nbformat": 4,
 "nbformat_minor": 2
}
