{
 "cells": [
  {
   "cell_type": "code",
   "execution_count": 1,
   "metadata": {},
   "outputs": [],
   "source": [
    "import pandas as pd\n",
    "import numpy as np\n",
    "import datetime as dt\n",
    "import time\n",
    "import requests\n",
    "import json"
   ]
  },
  {
   "cell_type": "code",
   "execution_count": 2,
   "metadata": {},
   "outputs": [],
   "source": [
    "df_frugal5000 = pd.read_csv('./data/frugal_5000.csv')"
   ]
  },
  {
   "cell_type": "code",
   "execution_count": 3,
   "metadata": {},
   "outputs": [],
   "source": [
    "df_frugal5001to10001 = pd.read_csv('./data/frugal_5001to10001.csv')"
   ]
  },
  {
   "cell_type": "code",
   "execution_count": 4,
   "metadata": {},
   "outputs": [],
   "source": [
    "df_frugal10002to15002 = pd.read_csv('./data/frugal_10002to15002.csv')"
   ]
  },
  {
   "cell_type": "code",
   "execution_count": 5,
   "metadata": {},
   "outputs": [],
   "source": [
    "df_frugal15003to20003 = pd.read_csv('./data/frugal_15003to20003.csv')"
   ]
  },
  {
   "cell_type": "code",
   "execution_count": 6,
   "metadata": {},
   "outputs": [],
   "source": [
    "df_frugal20004to25004 = pd.read_csv('./data/frugal_20004to25004.csv')"
   ]
  },
  {
   "cell_type": "code",
   "execution_count": 7,
   "metadata": {},
   "outputs": [],
   "source": [
    "frugals = [df_frugal5000, df_frugal5001to10001,  df_frugal10002to15002, df_frugal15003to20003, df_frugal20004to25004]"
   ]
  },
  {
   "cell_type": "code",
   "execution_count": 8,
   "metadata": {},
   "outputs": [],
   "source": [
    "df_frugal = pd.concat(frugals)"
   ]
  },
  {
   "cell_type": "code",
   "execution_count": 9,
   "metadata": {},
   "outputs": [
    {
     "data": {
      "text/plain": [
       "(18650, 27)"
      ]
     },
     "execution_count": 9,
     "metadata": {},
     "output_type": "execute_result"
    }
   ],
   "source": [
    "df_frugal.shape"
   ]
  },
  {
   "cell_type": "code",
   "execution_count": 10,
   "metadata": {},
   "outputs": [
    {
     "data": {
      "text/html": [
       "<div>\n",
       "<style scoped>\n",
       "    .dataframe tbody tr th:only-of-type {\n",
       "        vertical-align: middle;\n",
       "    }\n",
       "\n",
       "    .dataframe tbody tr th {\n",
       "        vertical-align: top;\n",
       "    }\n",
       "\n",
       "    .dataframe thead th {\n",
       "        text-align: right;\n",
       "    }\n",
       "</style>\n",
       "<table border=\"1\" class=\"dataframe\">\n",
       "  <thead>\n",
       "    <tr style=\"text-align: right;\">\n",
       "      <th></th>\n",
       "      <th>Unnamed: 0</th>\n",
       "      <th>author</th>\n",
       "      <th>author_flair_css_class</th>\n",
       "      <th>author_flair_richtext</th>\n",
       "      <th>author_flair_text</th>\n",
       "      <th>author_flair_type</th>\n",
       "      <th>author_patreon_flair</th>\n",
       "      <th>author_full</th>\n",
       "      <th>id</th>\n",
       "      <th>is_cr_ads</th>\n",
       "      <th>...</th>\n",
       "      <th>pwls</th>\n",
       "      <th>retr_on</th>\n",
       "      <th>score</th>\n",
       "      <th>stickied</th>\n",
       "      <th>subreddit</th>\n",
       "      <th>text</th>\n",
       "      <th>time</th>\n",
       "      <th>title</th>\n",
       "      <th>tot_awards</th>\n",
       "      <th>upvote_r</th>\n",
       "    </tr>\n",
       "  </thead>\n",
       "  <tbody>\n",
       "    <tr>\n",
       "      <th>0</th>\n",
       "      <td>2</td>\n",
       "      <td>Poshbish</td>\n",
       "      <td>NaN</td>\n",
       "      <td>[]</td>\n",
       "      <td>NaN</td>\n",
       "      <td>text</td>\n",
       "      <td>False</td>\n",
       "      <td>t2_52eti3bt</td>\n",
       "      <td>shvapq</td>\n",
       "      <td>False</td>\n",
       "      <td>...</td>\n",
       "      <td>6</td>\n",
       "      <td>1643723144</td>\n",
       "      <td>1</td>\n",
       "      <td>False</td>\n",
       "      <td>Frugal</td>\n",
       "      <td>My car mercury sable 2008 \\nI don’t wanna buy ...</td>\n",
       "      <td>1643723134</td>\n",
       "      <td>Lost my car key drunk and the locksmiths are q...</td>\n",
       "      <td>0</td>\n",
       "      <td>1.0</td>\n",
       "    </tr>\n",
       "    <tr>\n",
       "      <th>1</th>\n",
       "      <td>6</td>\n",
       "      <td>ITNerd_Eze</td>\n",
       "      <td>NaN</td>\n",
       "      <td>[]</td>\n",
       "      <td>NaN</td>\n",
       "      <td>text</td>\n",
       "      <td>False</td>\n",
       "      <td>t2_ak7c7q93</td>\n",
       "      <td>shmt3b</td>\n",
       "      <td>False</td>\n",
       "      <td>...</td>\n",
       "      <td>6</td>\n",
       "      <td>1643692203</td>\n",
       "      <td>1</td>\n",
       "      <td>False</td>\n",
       "      <td>Frugal</td>\n",
       "      <td>So I currently make 2400 a month. Have no car ...</td>\n",
       "      <td>1643692192</td>\n",
       "      <td>Apartment costs</td>\n",
       "      <td>0</td>\n",
       "      <td>1.0</td>\n",
       "    </tr>\n",
       "  </tbody>\n",
       "</table>\n",
       "<p>2 rows × 27 columns</p>\n",
       "</div>"
      ],
      "text/plain": [
       "   Unnamed: 0      author author_flair_css_class author_flair_richtext  \\\n",
       "0           2    Poshbish                    NaN                    []   \n",
       "1           6  ITNerd_Eze                    NaN                    []   \n",
       "\n",
       "  author_flair_text author_flair_type  author_patreon_flair  author_full  \\\n",
       "0               NaN              text                 False  t2_52eti3bt   \n",
       "1               NaN              text                 False  t2_ak7c7q93   \n",
       "\n",
       "       id  is_cr_ads  ...  pwls     retr_on  score  stickied  subreddit  \\\n",
       "0  shvapq      False  ...     6  1643723144      1     False     Frugal   \n",
       "1  shmt3b      False  ...     6  1643692203      1     False     Frugal   \n",
       "\n",
       "                                                text        time  \\\n",
       "0  My car mercury sable 2008 \\nI don’t wanna buy ...  1643723134   \n",
       "1  So I currently make 2400 a month. Have no car ...  1643692192   \n",
       "\n",
       "                                               title  tot_awards  upvote_r  \n",
       "0  Lost my car key drunk and the locksmiths are q...           0       1.0  \n",
       "1                                    Apartment costs           0       1.0  \n",
       "\n",
       "[2 rows x 27 columns]"
      ]
     },
     "execution_count": 10,
     "metadata": {},
     "output_type": "execute_result"
    }
   ],
   "source": [
    "df_frugal.head(2)"
   ]
  },
  {
   "cell_type": "code",
   "execution_count": 11,
   "metadata": {},
   "outputs": [
    {
     "data": {
      "text/plain": [
       "Unnamed: 0                    0\n",
       "author                        0\n",
       "author_flair_css_class    18600\n",
       "author_flair_richtext         0\n",
       "author_flair_text         18600\n",
       "author_flair_type             0\n",
       "author_patreon_flair          0\n",
       "author_full                   0\n",
       "id                            0\n",
       "is_cr_ads                     0\n",
       "is_cross_post                 0\n",
       "is_orig_cont                  0\n",
       "is_self                       0\n",
       "is_vid                        0\n",
       "num_comments                  0\n",
       "num_cross                     0\n",
       "pinned                        0\n",
       "pwls                          0\n",
       "retr_on                       0\n",
       "score                         0\n",
       "stickied                      0\n",
       "subreddit                     0\n",
       "text                          0\n",
       "time                          0\n",
       "title                         0\n",
       "tot_awards                    0\n",
       "upvote_r                      0\n",
       "dtype: int64"
      ]
     },
     "execution_count": 11,
     "metadata": {},
     "output_type": "execute_result"
    }
   ],
   "source": [
    "df_frugal.isna().sum()"
   ]
  },
  {
   "cell_type": "code",
   "execution_count": 12,
   "metadata": {},
   "outputs": [
    {
     "name": "stdout",
     "output_type": "stream",
     "text": [
      "<class 'pandas.core.frame.DataFrame'>\n",
      "Int64Index: 18650 entries, 0 to 3699\n",
      "Data columns (total 27 columns):\n",
      " #   Column                  Non-Null Count  Dtype  \n",
      "---  ------                  --------------  -----  \n",
      " 0   Unnamed: 0              18650 non-null  int64  \n",
      " 1   author                  18650 non-null  object \n",
      " 2   author_flair_css_class  50 non-null     object \n",
      " 3   author_flair_richtext   18650 non-null  object \n",
      " 4   author_flair_text       50 non-null     object \n",
      " 5   author_flair_type       18650 non-null  object \n",
      " 6   author_patreon_flair    18650 non-null  bool   \n",
      " 7   author_full             18650 non-null  object \n",
      " 8   id                      18650 non-null  object \n",
      " 9   is_cr_ads               18650 non-null  bool   \n",
      " 10  is_cross_post           18650 non-null  bool   \n",
      " 11  is_orig_cont            18650 non-null  bool   \n",
      " 12  is_self                 18650 non-null  bool   \n",
      " 13  is_vid                  18650 non-null  bool   \n",
      " 14  num_comments            18650 non-null  int64  \n",
      " 15  num_cross               18650 non-null  int64  \n",
      " 16  pinned                  18650 non-null  bool   \n",
      " 17  pwls                    18650 non-null  int64  \n",
      " 18  retr_on                 18650 non-null  int64  \n",
      " 19  score                   18650 non-null  int64  \n",
      " 20  stickied                18650 non-null  bool   \n",
      " 21  subreddit               18650 non-null  object \n",
      " 22  text                    18650 non-null  object \n",
      " 23  time                    18650 non-null  int64  \n",
      " 24  title                   18650 non-null  object \n",
      " 25  tot_awards              18650 non-null  int64  \n",
      " 26  upvote_r                18650 non-null  float64\n",
      "dtypes: bool(8), float64(1), int64(8), object(10)\n",
      "memory usage: 3.0+ MB\n"
     ]
    }
   ],
   "source": [
    "df_frugal.info()"
   ]
  },
  {
   "cell_type": "code",
   "execution_count": 13,
   "metadata": {},
   "outputs": [
    {
     "data": {
      "text/plain": [
       "True    18650\n",
       "Name: is_self, dtype: int64"
      ]
     },
     "execution_count": 13,
     "metadata": {},
     "output_type": "execute_result"
    }
   ],
   "source": [
    "df_frugal['is_self'].value_counts()"
   ]
  },
  {
   "cell_type": "code",
   "execution_count": 14,
   "metadata": {},
   "outputs": [
    {
     "data": {
      "text/plain": [
       "text    18650\n",
       "Name: author_flair_type, dtype: int64"
      ]
     },
     "execution_count": 14,
     "metadata": {},
     "output_type": "execute_result"
    }
   ],
   "source": [
    "df_frugal['author_flair_type'].value_counts()"
   ]
  },
  {
   "cell_type": "code",
   "execution_count": 15,
   "metadata": {},
   "outputs": [
    {
     "data": {
      "text/plain": [
       "False    18650\n",
       "Name: author_patreon_flair, dtype: int64"
      ]
     },
     "execution_count": 15,
     "metadata": {},
     "output_type": "execute_result"
    }
   ],
   "source": [
    "df_frugal['author_patreon_flair'].value_counts()"
   ]
  },
  {
   "cell_type": "code",
   "execution_count": 16,
   "metadata": {},
   "outputs": [
    {
     "data": {
      "text/plain": [
       "False    18650\n",
       "Name: is_cr_ads, dtype: int64"
      ]
     },
     "execution_count": 16,
     "metadata": {},
     "output_type": "execute_result"
    }
   ],
   "source": [
    "df_frugal['is_cr_ads'].value_counts()"
   ]
  },
  {
   "cell_type": "code",
   "execution_count": 17,
   "metadata": {},
   "outputs": [
    {
     "data": {
      "text/plain": [
       "False    18650\n",
       "Name: is_orig_cont, dtype: int64"
      ]
     },
     "execution_count": 17,
     "metadata": {},
     "output_type": "execute_result"
    }
   ],
   "source": [
    "df_frugal['is_orig_cont'].value_counts()"
   ]
  },
  {
   "cell_type": "code",
   "execution_count": 18,
   "metadata": {},
   "outputs": [
    {
     "data": {
      "text/plain": [
       "False    18650\n",
       "Name: is_vid, dtype: int64"
      ]
     },
     "execution_count": 18,
     "metadata": {},
     "output_type": "execute_result"
    }
   ],
   "source": [
    "df_frugal['is_vid'].value_counts()"
   ]
  },
  {
   "cell_type": "code",
   "execution_count": 19,
   "metadata": {},
   "outputs": [
    {
     "data": {
      "text/plain": [
       "False    18650\n",
       "Name: pinned, dtype: int64"
      ]
     },
     "execution_count": 19,
     "metadata": {},
     "output_type": "execute_result"
    }
   ],
   "source": [
    "df_frugal['pinned'].value_counts()"
   ]
  },
  {
   "cell_type": "code",
   "execution_count": 20,
   "metadata": {},
   "outputs": [
    {
     "data": {
      "text/plain": [
       "False    18600\n",
       "True        50\n",
       "Name: stickied, dtype: int64"
      ]
     },
     "execution_count": 20,
     "metadata": {},
     "output_type": "execute_result"
    }
   ],
   "source": [
    "df_frugal['stickied'].value_counts()"
   ]
  },
  {
   "cell_type": "code",
   "execution_count": 21,
   "metadata": {},
   "outputs": [],
   "source": [
    "#Checking again for duplicates in main features of interest: text, subreddit, time, author, title\n",
    "mini_frugal = df_frugal[['title', 'text', 'subreddit', 'time', 'author']]\n"
   ]
  },
  {
   "cell_type": "code",
   "execution_count": 22,
   "metadata": {},
   "outputs": [
    {
     "data": {
      "text/plain": [
       "<bound method DataFrame.drop_duplicates of                                                   title  \\\n",
       "0     Lost my car key drunk and the locksmiths are q...   \n",
       "1                                       Apartment costs   \n",
       "2                     Update - how to get a cheap phone   \n",
       "3     Cheap Towing/Truck: Advice about downsizing my...   \n",
       "4             Minor dishwasher overhaul vs. replacement   \n",
       "...                                                 ...   \n",
       "3695             Do you only get 1 Honey offer per day?   \n",
       "3696  I’m tired of wasting cow milk - can someone he...   \n",
       "3697     Sources of Free / Cheap Scrap Graphite Blocks?   \n",
       "3698  Looking for a small, easily portable laptop fo...   \n",
       "3699  Does anyone know how to make a decent e-bike/e...   \n",
       "\n",
       "                                                   text subreddit        time  \\\n",
       "0     My car mercury sable 2008 \\nI don’t wanna buy ...    Frugal  1643723134   \n",
       "1     So I currently make 2400 a month. Have no car ...    Frugal  1643692192   \n",
       "2     Motorola made the amazingly stupid decision to...    Frugal  1643688180   \n",
       "3     Hey All, \\n\\nI am looking for a little advice ...    Frugal  1643685955   \n",
       "4     My dishwasher wasn't washing well and the rack...    Frugal  1643685466   \n",
       "...                                                 ...       ...         ...   \n",
       "3695  I purchased a Samsung Smart TV and got $100 ba...    Frugal  1642460541   \n",
       "3696                                          [removed]    Frugal  1642460069   \n",
       "3697                                          [removed]    Frugal  1642457307   \n",
       "3698  I work full time and am a full time graduate s...    Frugal  1642455103   \n",
       "3699  An e-bike would be practical &amp; help me avo...    Frugal  1642453219   \n",
       "\n",
       "                    author  \n",
       "0                 Poshbish  \n",
       "1               ITNerd_Eze  \n",
       "2             Henri_Dupont  \n",
       "3                Storxusmc  \n",
       "4               oldcreaker  \n",
       "...                    ...  \n",
       "3695  SpectacularLifeNoise  \n",
       "3696    dependableumbrella  \n",
       "3697         itsallprocess  \n",
       "3698           LennyLouLou  \n",
       "3699         winningashlee  \n",
       "\n",
       "[18650 rows x 5 columns]>"
      ]
     },
     "execution_count": 22,
     "metadata": {},
     "output_type": "execute_result"
    }
   ],
   "source": [
    "mini_frugal.drop_duplicates"
   ]
  },
  {
   "cell_type": "code",
   "execution_count": 23,
   "metadata": {},
   "outputs": [
    {
     "data": {
      "text/plain": [
       "(18650, 5)"
      ]
     },
     "execution_count": 23,
     "metadata": {},
     "output_type": "execute_result"
    }
   ],
   "source": [
    "mini_frugal.shape"
   ]
  },
  {
   "cell_type": "code",
   "execution_count": 24,
   "metadata": {},
   "outputs": [],
   "source": [
    "df_frugal.to_csv('./data/frugal_total20k.csv')"
   ]
  }
 ],
 "metadata": {
  "interpreter": {
   "hash": "1013f178bd8cc9c09c9a1bfa722153bff45040218b602b728b1ebb7cc8a12e61"
  },
  "kernelspec": {
   "display_name": "Python 3.9.7 64-bit ('base': conda)",
   "language": "python",
   "name": "python3"
  },
  "language_info": {
   "codemirror_mode": {
    "name": "ipython",
    "version": 3
   },
   "file_extension": ".py",
   "mimetype": "text/x-python",
   "name": "python",
   "nbconvert_exporter": "python",
   "pygments_lexer": "ipython3",
   "version": "3.9.7"
  },
  "orig_nbformat": 4
 },
 "nbformat": 4,
 "nbformat_minor": 2
}
